{
 "nbformat": 4,
 "nbformat_minor": 0,
 "metadata": {
  "colab": {
   "provenance": [
    {
     "file_id": "https://github.com/duckietown/duckietown-lx-recipes/blob/mooc2022/object-detection/assets/colab/dt_object_detection_training.ipynb",
     "timestamp": 1670378789340
    }
   ]
  },
  "kernelspec": {
   "name": "",
   "display_name": ""
  },
  "accelerator": "GPU",
  "gpuClass": "standard"
 },
 "cells": [
  {
   "cell_type": "markdown",
   "metadata": {
    "id": "6mIJd6b6pbsk"
   },
   "source": [
    "# First, let us set up a few dependencies\n",
    "\n",
    "Don't forget to switch to a GPU-enabled colab runtime!\n",
    "\n",
    "```\n",
    "Runtime -> Change Runtime Type -> GPU\n",
    "```"
   ]
  },
  {
   "cell_type": "code",
   "metadata": {
    "id": "6E2APl4pnbAa",
    "executionInfo": {
     "status": "ok",
     "timestamp": 1670378831244,
     "user_tz": -60,
     "elapsed": 12,
     "user": {
      "displayName": "Shengjie (Jason) Hu",
      "userId": "12497991870427436881"
     }
    }
   },
   "source": [
    "import os\n",
    "import contextlib\n",
    "@contextlib.contextmanager\n",
    "def directory(name):\n",
    "  ret = os.getcwd()\n",
    "  os.chdir(name)\n",
    "  yield None\n",
    "  os.chdir(ret)\n",
    "\n",
    "import subprocess\n",
    "def run(input, exception_on_failure=False):\n",
    "  try:\n",
    "    program_output = subprocess.check_output(f\"{input}\", shell=True, universal_newlines=True, stderr=subprocess.STDOUT)\n",
    "  except Exception as e:\n",
    "    if exception_on_failure:\n",
    "      raise e\n",
    "    program_output = e.output\n",
    "\n",
    "    return program_output\n",
    "def prun(input, exception_on_failure=False):\n",
    "  x = run(input, exception_on_failure)\n",
    "  print(x)\n",
    "  return x"
   ],
   "execution_count": null,
   "outputs": []
  },
  {
   "cell_type": "markdown",
   "metadata": {
    "id": "s6gJLjcipgNw"
   },
   "source": [
    "# This mounts your google drive to this notebook. You might have to change the path to fit with your dataset folder inside your drive.\n",
    "\n",
    "Read the instruction output by the cell bellow carefully!"
   ]
  },
  {
   "cell_type": "code",
   "source": [
    "# Create a temporary workspace\n",
    "import tempfile\n",
    "\n",
    "\n",
    "SESSION_WORKSPACE = tempfile.mkdtemp()\n",
    "print(f\"Session workspace created at: {SESSION_WORKSPACE}\")"
   ],
   "metadata": {
    "colab": {
     "base_uri": "https://localhost:8080/"
    },
    "id": "shRmyOAbatwZ",
    "executionInfo": {
     "status": "ok",
     "timestamp": 1670380289029,
     "user_tz": -60,
     "elapsed": 417,
     "user": {
      "displayName": "Shengjie (Jason) Hu",
      "userId": "12497991870427436881"
     }
    },
    "outputId": "9d624684-ab53-40c0-ade6-23ad82ae330f"
   },
   "execution_count": null,
   "outputs": []
  },
  {
   "cell_type": "code",
   "source": [
    "# Mount the drive\n",
    "from google.colab import drive\n",
    "drive.mount('/content/drive')\n",
    "DRIVE_PATH = \"/content/drive/My Drive\""
   ],
   "metadata": {
    "id": "Iod0c4KF_Vxo",
    "executionInfo": {
     "status": "ok",
     "timestamp": 1670380379483,
     "user_tz": -60,
     "elapsed": 2409,
     "user": {
      "displayName": "Shengjie (Jason) Hu",
      "userId": "12497991870427436881"
     }
    },
    "outputId": "b4470fd8-045e-4685-abb5-d929bdabcf3d",
    "colab": {
     "base_uri": "https://localhost:8080/"
    }
   },
   "execution_count": null,
   "outputs": []
  },
  {
   "cell_type": "code",
   "source": [
    "# Unzip the dataset\n",
    "import shutil\n",
    "import os\n",
    "\n",
    "\n",
    "DATASET_DIR_NAME = \"duckietown_object_detection_dataset\"\n",
    "DATASET_ZIP_NAME = f\"{DATASET_DIR_NAME}.zip\"\n",
    "DATASET_DIR_PATH = os.path.join(SESSION_WORKSPACE, DATASET_DIR_NAME)\n",
    "TRAIN_DIR = \"train\"\n",
    "VALIDATION_DIR = \"val\"\n",
    "IMAGES_DIR = \"images\"\n",
    "LABELS_DIR = \"labels\"\n",
    "\n",
    "\n",
    "def show_info(base_path: str):\n",
    "  for l1 in [TRAIN_DIR, VALIDATION_DIR]:\n",
    "    for l2 in [IMAGES_DIR, LABELS_DIR]:\n",
    "      p = os.path.join(base_path, l1, l2)\n",
    "      print(f\"#Files in {l1}/{l2}: {len(os.listdir(p))}\")\n",
    "\n",
    "\n",
    "def unzip_dataset():\n",
    "  # check zipped file\n",
    "  zip_path = os.path.join(DRIVE_PATH, DATASET_ZIP_NAME)\n",
    "  assert os.path.exists(zip_path), f\"No zipped dataset found at {zip_path}! Abort!\"\n",
    "\n",
    "  # unzip the data\n",
    "  print(\"Unpacking zipped data...\")\n",
    "  shutil.unpack_archive(zip_path, DATASET_DIR_PATH)\n",
    "  print(f\"Zipped dataset unpacked to {DATASET_DIR_PATH}\")\n",
    "\n",
    "  # show some info\n",
    "  show_info(DATASET_DIR_PATH)\n",
    "\n",
    "\n",
    "unzip_dataset()"
   ],
   "metadata": {
    "colab": {
     "base_uri": "https://localhost:8080/"
    },
    "id": "qhdlb1osbf_a",
    "executionInfo": {
     "status": "ok",
     "timestamp": 1670380987817,
     "user_tz": -60,
     "elapsed": 1259,
     "user": {
      "displayName": "Shengjie (Jason) Hu",
      "userId": "12497991870427436881"
     }
    },
    "outputId": "cd9a56f2-3bb7-479d-dfbe-f0c3e945bf11"
   },
   "execution_count": null,
   "outputs": []
  },
  {
   "cell_type": "code",
   "source": [
    "# Change  working directory to the session workspace\n",
    "os.chdir(SESSION_WORKSPACE)\n",
    "print(f\"PWD: {os.getcwd()}\")"
   ],
   "metadata": {
    "colab": {
     "base_uri": "https://localhost:8080/"
    },
    "id": "xpWozMbUeFZA",
    "executionInfo": {
     "status": "ok",
     "timestamp": 1670381407959,
     "user_tz": -60,
     "elapsed": 16,
     "user": {
      "displayName": "Shengjie (Jason) Hu",
      "userId": "12497991870427436881"
     }
    },
    "outputId": "f4be3e51-1482-43c0-f7a5-4ba4521e8149"
   },
   "execution_count": null,
   "outputs": []
  },
  {
   "cell_type": "markdown",
   "metadata": {
    "id": "bc4VMcwmpr84"
   },
   "source": [
    "# Next, we will clone Yolov5"
   ]
  },
  {
   "cell_type": "code",
   "metadata": {
    "id": "P8L68QAeZF9G",
    "colab": {
     "base_uri": "https://localhost:8080/"
    },
    "outputId": "5012c61a-0bfe-4d1c-a5f0-96be76a4c445",
    "executionInfo": {
     "status": "ok",
     "timestamp": 1670381541090,
     "user_tz": -60,
     "elapsed": 109397,
     "user": {
      "displayName": "Shengjie (Jason) Hu",
      "userId": "12497991870427436881"
     }
    }
   },
   "source": [
    "!git clone https://github.com/duckietown/yolov5.git -b dt-obj-det\n",
    "!cd yolov5 && pip3 install -r requirements.txt\n",
    "!pip3 install torch==1.11 torchvision==0.12.0"
   ],
   "execution_count": null,
   "outputs": []
  },
  {
   "cell_type": "markdown",
   "source": [
    "# We can now inform the training process of the format and location of our dataset"
   ],
   "metadata": {
    "id": "g5iilV-e76YN"
   }
  },
  {
   "cell_type": "code",
   "source": [
    "%%writefile ./yolov5/data/duckietown.yaml\n",
    "\n",
    "# train and val data as 1) directory: path/images/, 2) file: path/images.txt, or 3) list: [path1/images/, path2/images/]\n",
    "train: ../duckietown_object_detection_dataset/train\n",
    "val: ../duckietown_object_detection_dataset/val\n",
    "\n",
    "# number of classes\n",
    "nc: 4\n",
    "\n",
    "# class names\n",
    "names: [ 'duckie', 'cone', 'truck', 'bus' ]"
   ],
   "metadata": {
    "id": "7u3D124u8Flw",
    "outputId": "2d2a7146-168e-45f0-eb79-5de8774825c5",
    "colab": {
     "base_uri": "https://localhost:8080/"
    },
    "executionInfo": {
     "status": "ok",
     "timestamp": 1670381991738,
     "user_tz": -60,
     "elapsed": 440,
     "user": {
      "displayName": "Shengjie (Jason) Hu",
      "userId": "12497991870427436881"
     }
    }
   },
   "execution_count": null,
   "outputs": []
  },
  {
   "cell_type": "markdown",
   "metadata": {
    "id": "CalmQI9Ypx5v"
   },
   "source": [
    "# And we're ready to train! This step will take about 5 minutes.\n",
    "\n",
    "Notice that we're only training for 10 epochs. That's probably not enough!"
   ]
  },
  {
   "cell_type": "code",
   "metadata": {
    "id": "Kss7Oid6OkAv",
    "colab": {
     "base_uri": "https://localhost:8080/"
    },
    "outputId": "66588a22-4dc4-4955-b1c0-3ca661fe3ceb",
    "executionInfo": {
     "status": "ok",
     "timestamp": 1670382436259,
     "user_tz": -60,
     "elapsed": 324577,
     "user": {
      "displayName": "Shengjie (Jason) Hu",
      "userId": "12497991870427436881"
     }
    }
   },
   "source": [
    "# !mv yolov5/best.pt yolov5/best_old.pt\n",
    "!cd yolov5 && python3 train.py --img 416 --batch 16 --epochs 10 --data duckietown.yaml --weights yolov5s.pt"
   ],
   "execution_count": null,
   "outputs": []
  },
  {
   "cell_type": "code",
   "source": [
    "import numpy as np\n",
    "\n",
    "all_exps = os.listdir(\"yolov5/runs/train\")\n",
    "all_exps_filtered = map(lambda x: int(x.replace(\"exp\", \"1\")), filter(lambda x: x.startswith(\"exp\"), all_exps))\n",
    "all_exps_filtered = np.array(list(all_exps))\n",
    "latest_exp_index = np.argmax(all_exps)\n",
    "latest_exp = all_exps[latest_exp_index]\n",
    "# print(f\"Latest exp is {latest_exp}\")\n",
    "\n",
    "# _ = prun(f\"cp yolov5/runs/train/{latest_exp}/weights/best.pt yolov5/best.pt\")\n",
    "print(f\"Marked the model from the latest run ({latest_exp}) as yolov5/best.pt.\")"
   ],
   "metadata": {
    "id": "b5jSQ4XubFqH",
    "outputId": "d093bf09-672b-46a6-8be0-b3080aa1c252",
    "colab": {
     "base_uri": "https://localhost:8080/"
    },
    "executionInfo": {
     "status": "ok",
     "timestamp": 1670384704910,
     "user_tz": -60,
     "elapsed": 3,
     "user": {
      "displayName": "Shengjie (Jason) Hu",
      "userId": "12497991870427436881"
     }
    }
   },
   "execution_count": null,
   "outputs": []
  },
  {
   "cell_type": "markdown",
   "metadata": {
    "id": "gz2PZ7d0qPt0"
   },
   "source": [
    "# Next, we can upload your model to Duckietown's cloud!"
   ]
  },
  {
   "cell_type": "code",
   "metadata": {
    "id": "4bNXEgAFpRIH",
    "colab": {
     "base_uri": "https://localhost:8080/"
    },
    "outputId": "1b3096b8-f6ea-40b3-cd8b-016a6ec6cd3a",
    "executionInfo": {
     "status": "ok",
     "timestamp": 1670384965119,
     "user_tz": -60,
     "elapsed": 4711,
     "user": {
      "displayName": "Shengjie (Jason) Hu",
      "userId": "12497991870427436881"
     }
    }
   },
   "source": [
    "!pip3 install git+https://github.com/duckietown/lib-dt-mooc-2021@414fab9234b2e645a25f947a202bd5d1f58d05f3"
   ],
   "execution_count": null,
   "outputs": []
  },
  {
   "cell_type": "code",
   "source": [
    "# TODO: Fill in the duckietown token here\n",
    "YOUR_DT_TOKEN = \"\""
   ],
   "metadata": {
    "id": "hl-HhnrFtKnp",
    "executionInfo": {
     "status": "ok",
     "timestamp": 1670385063422,
     "user_tz": -60,
     "elapsed": 1208,
     "user": {
      "displayName": "Shengjie (Jason) Hu",
      "userId": "12497991870427436881"
     }
    }
   },
   "execution_count": null,
   "outputs": []
  },
  {
   "cell_type": "code",
   "metadata": {
    "id": "P3HWb4wMpZc5",
    "colab": {
     "base_uri": "https://localhost:8080/",
     "height": 86
    },
    "outputId": "2af3d9f5-02d9-49d1-b943-985668398a29",
    "executionInfo": {
     "status": "ok",
     "timestamp": 1670384996994,
     "user_tz": -60,
     "elapsed": 21610,
     "user": {
      "displayName": "Shengjie (Jason) Hu",
      "userId": "12497991870427436881"
     }
    }
   },
   "source": [
    "from dt_mooc.cloud import Storage\n",
    "from dt_mooc.utils import select_device\n",
    "import sys\n",
    "import torch\n",
    "\n",
    "sys.path.insert(0, './yolov5')\n",
    "model = torch.load(\"./yolov5/best.pt\", map_location=select_device(\"cpu\"))['model'].float()  # load to FP32\n",
    "\n",
    "storage = Storage(YOUR_DT_TOKEN)\n",
    "\n",
    "storage.upload_yolov5_only(\"yolov5\", model, \"./yolov5/best.pt\")"
   ],
   "execution_count": null,
   "outputs": []
  },
  {
   "cell_type": "markdown",
   "metadata": {
    "id": "VUVJ5BfBGq7F"
   },
   "source": [
    "# Done!\n",
    "\n",
    "We're done training! You can go back to the `Training` notebook"
   ]
  }
 ]
}
